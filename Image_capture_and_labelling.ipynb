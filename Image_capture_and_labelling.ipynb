{
 "cells": [
  {
   "cell_type": "markdown",
   "metadata": {},
   "source": [
    "# Image capture"
   ]
  },
  {
   "cell_type": "code",
   "execution_count": 1,
   "metadata": {},
   "outputs": [],
   "source": [
    "# Import opencv\n",
    "import cv2 \n",
    "\n",
    "# Import uuid\n",
    "import uuid\n",
    "\n",
    "# Import Operating System\n",
    "import os\n",
    "\n",
    "# Import time\n",
    "import time"
   ]
  },
  {
   "cell_type": "code",
   "execution_count": 2,
   "metadata": {},
   "outputs": [],
   "source": [
    "labels = ['mask', 'no-mask']\n",
    "number_imgs = 10"
   ]
  },
  {
   "cell_type": "code",
   "execution_count": 3,
   "metadata": {},
   "outputs": [],
   "source": [
    "IMAGES_PATH = 'img/'"
   ]
  },
  {
   "cell_type": "code",
   "execution_count": 4,
   "metadata": {},
   "outputs": [
    {
     "name": "stderr",
     "output_type": "stream",
     "text": [
      "The syntax of the command is incorrect.\n",
      "The syntax of the command is incorrect.\n",
      "The syntax of the command is incorrect.\n"
     ]
    }
   ],
   "source": [
    "if not os.path.exists(IMAGES_PATH):\n",
    "    if os.name == 'posix':\n",
    "        !mkdir -p {IMAGES_PATH}\n",
    "    if os.name == 'nt':\n",
    "         !mkdir {IMAGES_PATH}\n",
    "for label in labels:\n",
    "    path = os.path.join(IMAGES_PATH, label)\n",
    "    if not os.path.exists(path):\n",
    "        !mkdir {path}"
   ]
  },
  {
   "cell_type": "code",
   "execution_count": 5,
   "metadata": {},
   "outputs": [
    {
     "name": "stdout",
     "output_type": "stream",
     "text": [
      "Collecting images for mask\n",
      "Collecting image 0\n",
      "Collecting image 1\n",
      "Collecting image 2\n",
      "Collecting image 3\n",
      "Collecting image 4\n",
      "Collecting image 5\n",
      "Collecting image 6\n",
      "Collecting image 7\n",
      "Collecting image 8\n",
      "Collecting image 9\n",
      "Collecting images for no-mask\n",
      "Collecting image 0\n",
      "Collecting image 1\n",
      "Collecting image 2\n",
      "Collecting image 3\n",
      "Collecting image 4\n",
      "Collecting image 5\n",
      "Collecting image 6\n",
      "Collecting image 7\n",
      "Collecting image 8\n",
      "Collecting image 9\n"
     ]
    }
   ],
   "source": [
    "for label in labels:\n",
    "    cap = cv2.VideoCapture(1)\n",
    "    print('Collecting images for {}'.format(label))\n",
    "    time.sleep(5)\n",
    "    for imgnum in range(number_imgs):\n",
    "        print('Collecting image {}'.format(imgnum))\n",
    "        ret, frame = cap.read()\n",
    "        imgname = os.path.join(IMAGES_PATH,label,label+'.'+'{}.jpg'.format(str(uuid.uuid1())))\n",
    "        cv2.imwrite(imgname, frame)\n",
    "        cv2.imshow('frame', frame)\n",
    "        time.sleep(5)\n",
    "\n",
    "        if cv2.waitKey(1) & 0xFF == ord('q'):\n",
    "            break\n",
    "cap.release()\n",
    "cv2.destroyAllWindows()"
   ]
  },
  {
   "cell_type": "markdown",
   "metadata": {},
   "source": [
    "# Image labelling"
   ]
  },
  {
   "cell_type": "code",
   "execution_count": 12,
   "metadata": {},
   "outputs": [
    {
     "name": "stdout",
     "output_type": "stream",
     "text": [
      "Requirement already up-to-date: pyqt5 in c:\\users\\berni\\anaconda3\\lib\\site-packages (5.15.4)\n",
      "Requirement already up-to-date: lxml in c:\\users\\berni\\anaconda3\\lib\\site-packages (4.6.3)\n",
      "Requirement already satisfied, skipping upgrade: PyQt5-sip<13,>=12.8 in c:\\users\\berni\\anaconda3\\lib\\site-packages (from pyqt5) (12.9.0)\n",
      "Requirement already satisfied, skipping upgrade: PyQt5-Qt5>=5.15 in c:\\users\\berni\\anaconda3\\lib\\site-packages (from pyqt5) (5.15.2)\n"
     ]
    }
   ],
   "source": [
    "!pip install --upgrade pyqt5 lxml --user"
   ]
  },
  {
   "cell_type": "code",
   "execution_count": 6,
   "metadata": {},
   "outputs": [],
   "source": [
    "LABELIMG_PATH = 'labels/'"
   ]
  },
  {
   "cell_type": "code",
   "execution_count": 7,
   "metadata": {},
   "outputs": [],
   "source": [
    "import os"
   ]
  },
  {
   "cell_type": "code",
   "execution_count": 8,
   "metadata": {},
   "outputs": [],
   "source": [
    "if not os.path.exists(LABELIMG_PATH):\n",
    "    !mkdir {LABELIMG_PATH}\n",
    "    !git clone https://github.com/tzutalin/labelImg {LABELIMG_PATH}"
   ]
  },
  {
   "cell_type": "code",
   "execution_count": 9,
   "metadata": {},
   "outputs": [],
   "source": [
    "if os.name == 'posix':\n",
    "    !cd {LABELIMG_PATH} && make qt5py3\n",
    "if os.name =='nt':\n",
    "    !cd {LABELIMG_PATH} && pyrcc5 -o libs/resources.py resources.qrc"
   ]
  },
  {
   "cell_type": "code",
   "execution_count": 13,
   "metadata": {},
   "outputs": [
    {
     "name": "stdout",
     "output_type": "stream",
     "text": [
      "Image:C:\\Users\\berni\\Downloads\\img\\no-mask\\no-mask.7a9dc030-cedf-11eb-9f1e-00e04c680d9b.jpg -> Annotation:C:/Users/berni/Downloads/img/no-mask/no-mask.7a9dc030-cedf-11eb-9f1e-00e04c680d9b.xml\n",
      "Image:C:\\Users\\berni\\Downloads\\img\\no-mask\\no-mask.7d9c47b4-cedf-11eb-a2af-00e04c680d9b.jpg -> Annotation:C:/Users/berni/Downloads/img/no-mask/no-mask.7d9c47b4-cedf-11eb-a2af-00e04c680d9b.xml\n",
      "Image:C:\\Users\\berni\\Downloads\\img\\no-mask\\no-mask.8c99cdf6-cedf-11eb-b582-00e04c680d9b.jpg -> Annotation:C:/Users/berni/Downloads/img/no-mask/no-mask.8c99cdf6-cedf-11eb-b582-00e04c680d9b.xml\n",
      "Image:C:\\Users\\berni\\Downloads\\img\\no-mask\\no-mask.8f98cc40-cedf-11eb-b8e4-00e04c680d9b.jpg -> Annotation:C:/Users/berni/Downloads/img/no-mask/no-mask.8f98cc40-cedf-11eb-b8e4-00e04c680d9b.xml\n",
      "Image:C:\\Users\\berni\\Downloads\\img\\no-mask\\no-mask.779f135a-cedf-11eb-a741-00e04c680d9b.jpg -> Annotation:C:/Users/berni/Downloads/img/no-mask/no-mask.779f135a-cedf-11eb-a741-00e04c680d9b.xml\n",
      "Image:C:\\Users\\berni\\Downloads\\img\\no-mask\\no-mask.899aaa64-cedf-11eb-903e-00e04c680d9b.jpg -> Annotation:C:/Users/berni/Downloads/img/no-mask/no-mask.899aaa64-cedf-11eb-903e-00e04c680d9b.xml\n",
      "Image:C:\\Users\\berni\\Downloads\\img\\no-mask\\no-mask.8099a092-cedf-11eb-9993-00e04c680d9b.jpg -> Annotation:C:/Users/berni/Downloads/img/no-mask/no-mask.8099a092-cedf-11eb-9993-00e04c680d9b.xml\n",
      "Image:C:\\Users\\berni\\Downloads\\img\\no-mask\\no-mask.83990c10-cedf-11eb-9d83-00e04c680d9b.jpg -> Annotation:C:/Users/berni/Downloads/img/no-mask/no-mask.83990c10-cedf-11eb-9d83-00e04c680d9b.xml\n",
      "Image:C:\\Users\\berni\\Downloads\\img\\no-mask\\no-mask.92982f26-cedf-11eb-af8b-00e04c680d9b.jpg -> Annotation:C:/Users/berni/Downloads/img/no-mask/no-mask.92982f26-cedf-11eb-af8b-00e04c680d9b.xml\n",
      "Image:C:\\Users\\berni\\Downloads\\img\\no-mask\\no-mask.869978a2-cedf-11eb-a260-00e04c680d9b.jpg -> Annotation:C:/Users/berni/Downloads/img/no-mask/no-mask.869978a2-cedf-11eb-a260-00e04c680d9b.xml\n",
      "Image:C:\\Users\\berni\\Downloads\\img\\no-mask\\no-mask.869978a2-cedf-11eb-a260-00e04c680d9b.jpg -> Annotation:C:\\Users\\berni\\Downloads\\img\\no-mask\\no-mask.869978a2-cedf-11eb-a260-00e04c680d9b.xml\n",
      "Image:C:\\Users\\berni\\Downloads\\img\\no-mask\\no-mask.869978a2-cedf-11eb-a260-00e04c680d9b.jpg -> Annotation:C:\\Users\\berni\\Downloads\\img\\no-mask\\no-mask.869978a2-cedf-11eb-a260-00e04c680d9b.xml\n"
     ]
    }
   ],
   "source": [
    "!cd {LABELIMG_PATH} && python labelImg.py"
   ]
  }
 ],
 "metadata": {
  "kernelspec": {
   "display_name": "Python 3",
   "language": "python",
   "name": "python3"
  },
  "language_info": {
   "codemirror_mode": {
    "name": "ipython",
    "version": 3
   },
   "file_extension": ".py",
   "mimetype": "text/x-python",
   "name": "python",
   "nbconvert_exporter": "python",
   "pygments_lexer": "ipython3",
   "version": "3.7.4"
  }
 },
 "nbformat": 4,
 "nbformat_minor": 5
}
